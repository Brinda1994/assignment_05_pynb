{
  "nbformat": 4,
  "nbformat_minor": 0,
  "metadata": {
    "colab": {
      "provenance": [],
      "authorship_tag": "ABX9TyMibzQ3l9VGKzSR2T32Rlwf",
      "include_colab_link": true
    },
    "kernelspec": {
      "name": "python3",
      "display_name": "Python 3"
    },
    "language_info": {
      "name": "python"
    }
  },
  "cells": [
    {
      "cell_type": "markdown",
      "metadata": {
        "id": "view-in-github",
        "colab_type": "text"
      },
      "source": [
        "<a href=\"https://colab.research.google.com/github/Brinda1994/assignment_05_pynb/blob/main/Assignment01.ipynb\" target=\"_parent\"><img src=\"https://colab.research.google.com/assets/colab-badge.svg\" alt=\"Open In Colab\"/></a>"
      ]
    },
    {
      "cell_type": "code",
      "execution_count": null,
      "metadata": {
        "id": "xbs0sEq17l1Y",
        "colab": {
          "base_uri": "https://localhost:8080/"
        },
        "outputId": "3b665125-b3d2-443f-b4b0-00d9316ab8fe"
      },
      "outputs": [
        {
          "output_type": "stream",
          "name": "stdout",
          "text": [
            "Hello\n"
          ]
        }
      ],
      "source": [
        "1.# Given the string \"Hello, World!\", extract and print the substring \"Hello\".\n",
        "string = \"Hello,World!\"\n",
        "print(string[:5])"
      ]
    },
    {
      "cell_type": "code",
      "source": [
        "2.# Given the string \"Python is fun\", extract and print the sustring \"is\".\n",
        "string = \"python is fun\"\n",
        "print(string[7:9])"
      ],
      "metadata": {
        "colab": {
          "base_uri": "https://localhost:8080/"
        },
        "id": "7_tFs1Gp9p1e",
        "outputId": "14edfa30-8336-4b41-aea7-12f0174c7526"
      },
      "execution_count": null,
      "outputs": [
        {
          "output_type": "stream",
          "name": "stdout",
          "text": [
            "is\n"
          ]
        }
      ]
    },
    {
      "cell_type": "code",
      "source": [
        "3.# Given the string \"Programming\", extract and print the substring \"gram\" using slicing indices.\n",
        "string = \"programming\"\n",
        "s=slice(3,7)\n",
        "print(\"string slicing\")\n",
        "print(string[s])"
      ],
      "metadata": {
        "colab": {
          "base_uri": "https://localhost:8080/"
        },
        "id": "Ulb_MpxZ_8-O",
        "outputId": "ae32de19-d966-48d8-cdfb-4ab9a46d4b7d"
      },
      "execution_count": null,
      "outputs": [
        {
          "output_type": "stream",
          "name": "stdout",
          "text": [
            "string slicing\n",
            "gram\n"
          ]
        }
      ]
    },
    {
      "cell_type": "code",
      "source": [
        "4.# Given the string \"abcdefgh\", use slicing to print only the characters at even indices.\n",
        "string = \"abcdefgh\"\n",
        "s=slice(0,8,2)\n",
        "print(\"Even characters:\",)\n",
        "print(string[s])"
      ],
      "metadata": {
        "colab": {
          "base_uri": "https://localhost:8080/"
        },
        "id": "J_yKDSnkDR99",
        "outputId": "a7c796da-b349-475f-c8a3-d8c02d1ae6ca"
      },
      "execution_count": null,
      "outputs": [
        {
          "output_type": "stream",
          "name": "stdout",
          "text": [
            "Even characters:\n",
            "aceg\n"
          ]
        }
      ]
    },
    {
      "cell_type": "code",
      "source": [
        "5.# Given the string \"abcdefg\", use negative indices to extract and print the substring \"efg\".\n",
        "string = \"abcdefg\"\n",
        "print(string[-3:])"
      ],
      "metadata": {
        "colab": {
          "base_uri": "https://localhost:8080/"
        },
        "id": "gcK8ZAw0i8G8",
        "outputId": "40aa91e5-dd68-424a-e03e-f0922d66ba91"
      },
      "execution_count": null,
      "outputs": [
        {
          "output_type": "stream",
          "name": "stdout",
          "text": [
            "efg\n"
          ]
        }
      ]
    },
    {
      "cell_type": "code",
      "source": [
        "6.#Given the string \"Data Science\", use negative indices to extract and print the last three characters.\n",
        "string = \"Data Science\"\n",
        "print(string[-1:-4:-1])"
      ],
      "metadata": {
        "colab": {
          "base_uri": "https://localhost:8080/"
        },
        "id": "JmllIp7-lGjT",
        "outputId": "d6d4e074-dcc5-47b6-8c3b-7f3b622ba835"
      },
      "execution_count": null,
      "outputs": [
        {
          "output_type": "stream",
          "name": "stdout",
          "text": [
            "ecn\n"
          ]
        }
      ]
    },
    {
      "cell_type": "code",
      "source": [
        "7.#Given the string \"abcdefghij\", use slicing with a step to print every second character.\n",
        "string = \"abcdefghij\"\n",
        "s = slice(1,10,2)\n",
        "print(string[s])"
      ],
      "metadata": {
        "colab": {
          "base_uri": "https://localhost:8080/"
        },
        "id": "Xi4cJH4Lq9W5",
        "outputId": "21a4c0a2-d9af-4ad6-b62a-aabef01c6d1a"
      },
      "execution_count": null,
      "outputs": [
        {
          "output_type": "stream",
          "name": "stdout",
          "text": [
            "bdfhj\n"
          ]
        }
      ]
    },
    {
      "cell_type": "code",
      "source": [
        "8.#Given the string \"1234567890\", use slicing with a step to print the odd digits.\n",
        "s = \"1234567890\"\n",
        "print(s[0::2])"
      ],
      "metadata": {
        "colab": {
          "base_uri": "https://localhost:8080/"
        },
        "id": "IdzYm_thOvBr",
        "outputId": "cee27f7b-e0b9-455d-a4f7-96f37d690228"
      },
      "execution_count": null,
      "outputs": [
        {
          "output_type": "stream",
          "name": "stdout",
          "text": [
            "13579\n"
          ]
        }
      ]
    },
    {
      "cell_type": "code",
      "source": [
        "9.#Given the string \"Hello\", use slicing to print the string in reverse order.\n",
        "s = \"Hello\"\n",
        "reverse_s = s[::-1]\n",
        "print(reverse_s)"
      ],
      "metadata": {
        "colab": {
          "base_uri": "https://localhost:8080/"
        },
        "id": "lQv_6ClKAn4v",
        "outputId": "b5abd22c-5135-4684-a2fb-ab6e59b0b87d"
      },
      "execution_count": null,
      "outputs": [
        {
          "output_type": "stream",
          "name": "stdout",
          "text": [
            "olleH\n"
          ]
        }
      ]
    },
    {
      "cell_type": "code",
      "source": [
        "10. #Given the string \"abcdefghijk\", extract and print the substring \"acegik\" using slicing.\n",
        "s = \"abcdefghijk\"\n",
        "print(s[0:11:2])\n"
      ],
      "metadata": {
        "colab": {
          "base_uri": "https://localhost:8080/"
        },
        "id": "nTurzGnkGZV-",
        "outputId": "ce7e76dc-1da1-41a9-c101-3e567e4787db"
      },
      "execution_count": null,
      "outputs": [
        {
          "output_type": "stream",
          "name": "stdout",
          "text": [
            "acegik\n"
          ]
        }
      ]
    }
  ]
}