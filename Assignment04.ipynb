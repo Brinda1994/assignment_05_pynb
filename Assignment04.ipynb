{
  "nbformat": 4,
  "nbformat_minor": 0,
  "metadata": {
    "colab": {
      "provenance": [],
      "authorship_tag": "ABX9TyPhxm15Z8EVePmyGkgPhp5Y",
      "include_colab_link": true
    },
    "kernelspec": {
      "name": "python3",
      "display_name": "Python 3"
    },
    "language_info": {
      "name": "python"
    }
  },
  "cells": [
    {
      "cell_type": "markdown",
      "metadata": {
        "id": "view-in-github",
        "colab_type": "text"
      },
      "source": [
        "<a href=\"https://colab.research.google.com/github/Brinda1994/assignment_05_pynb/blob/main/Assignment04.ipynb\" target=\"_parent\"><img src=\"https://colab.research.google.com/assets/colab-badge.svg\" alt=\"Open In Colab\"/></a>"
      ]
    },
    {
      "cell_type": "code",
      "source": [
        "#Write an interactive Python Program to implement following “Guess Game”\n",
        "i. Think of a number between 1 and 10 and store it in a variable called\n",
        "   \"secretNumber\".\n",
        "ii. Ask the user to enter a number between 1 and 10 and store it in a variable called\n",
        "   \"guess\".\n",
        "iii. Use control statements (if-else) to check if the guess is correct, higher, or lower\n",
        "   than the secret number.\n",
        "iv. Display appropriate messages to the user based on their guess:\n",
        "  • If the guess is correct, display \"Congratulations! You guessed the number\n",
        "    correctly!\"\n",
        "  • If the guess is higher than the secret number, display \"Too high! Try\n",
        "    again.\"\n",
        "  • If the guess is lower than the secret number, display \"Too low! Try again.\"\n",
        "v. Allow the user to keep guessing until they guess the correct number"
      ],
      "metadata": {
        "id": "1Hb7ElnmfZfw"
      },
      "execution_count": null,
      "outputs": []
    },
    {
      "cell_type": "code",
      "source": [
        "import random\n",
        "\n",
        "print(\"Welcome to the Guessing Game!\")\n",
        "print(\"Try to guess the number between 1 and 10\")\n",
        "\n",
        "num = random.randint(1,10)\n",
        "guess = -1\n",
        "\n",
        "while guess != num:\n",
        "    guess_str = input(\"Enter your guess: \")\n",
        "    guess = int(guess_str)\n",
        "\n",
        "    if guess < num:\n",
        "        print(\"Too low! Try again.\")\n",
        "    elif guess > num:\n",
        "        print(\"Too high!Try again.\")\n",
        "\n",
        "print(f\"Congratulations! You guessed the number {num} correctly!\")"
      ],
      "metadata": {
        "colab": {
          "base_uri": "https://localhost:8080/"
        },
        "id": "9aj4eXqmm2qn",
        "outputId": "dc342b82-28d7-4d06-bcaf-7c0b0ea1a53b"
      },
      "execution_count": null,
      "outputs": [
        {
          "output_type": "stream",
          "name": "stdout",
          "text": [
            "Welcome to the Guessing Game!\n",
            "Try to guess the number between 1 and 10\n",
            "Enter your guess: 6\n",
            "Too low! Try again.\n",
            "Enter your guess: 7\n",
            "Too low! Try again.\n",
            "Enter your guess: 9\n",
            "Congratulations! You guessed the number 9 correctly!\n"
          ]
        }
      ]
    },
    {
      "cell_type": "code",
      "source": [
        "2. #Write a program to find and print the Factorial of this number. The Factorial of a positive integer N refers to the product of all number in the range from 1 to N.\n",
        "n = int(input(\"Enter a number\"))\n",
        "a=1\n",
        "for i in range(1,n+1,1):\n",
        "    a*=i\n",
        "print(\"The factorial of\",n,\"is\",a)"
      ],
      "metadata": {
        "colab": {
          "base_uri": "https://localhost:8080/"
        },
        "id": "cGslI-DCf_ZG",
        "outputId": "0532855c-0faf-4713-996b-afa74a7118db"
      },
      "execution_count": null,
      "outputs": [
        {
          "output_type": "stream",
          "name": "stdout",
          "text": [
            "Enter a number4\n",
            "The factorial of 4 is 24\n"
          ]
        }
      ]
    },
    {
      "cell_type": "code",
      "source": [
        "L = int(input(\"Enter minimum dimensions L:\"))\n",
        "N=int(input(\"Enter the number of photos:\"))\n",
        "for i in range(N):\n",
        "  dimensions = input(f\"Enter dimensions of photo {i+1}(W,H):\")\n",
        "  if',' in dimensions:\n",
        "    W,H = map(int,dimensions.split(','))\n",
        "  else:\n",
        "    print(\"ERROR! please enter dimensions in the correct format(W,H).\")\n",
        "  if W<L or H<L:\n",
        "        print(\"UPLOAD ANOTHER\")\n",
        "  elif W==H:\n",
        "        print(\"ACCEPTED\")\n",
        "  else:\n",
        "       print(\"CROP IT\")\n"
      ],
      "metadata": {
        "colab": {
          "base_uri": "https://localhost:8080/"
        },
        "id": "xGQexma1iS2a",
        "outputId": "6588064a-ae84-429c-9a64-640ecfe09182"
      },
      "execution_count": null,
      "outputs": [
        {
          "output_type": "stream",
          "name": "stdout",
          "text": [
            "Enter minimum dimensions L:60\n",
            "Enter the number of photos:3\n",
            "Enter dimensions of photo 1(W,H):40,50\n",
            "UPLOAD ANOTHER\n",
            "Enter dimensions of photo 2(W,H):70,80\n",
            "CROP IT\n",
            "Enter dimensions of photo 3(W,H):60,60\n",
            "ACCEPTED\n"
          ]
        }
      ]
    }
  ]
}