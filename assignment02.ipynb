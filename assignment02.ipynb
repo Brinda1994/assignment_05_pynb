{
  "nbformat": 4,
  "nbformat_minor": 0,
  "metadata": {
    "colab": {
      "provenance": [],
      "authorship_tag": "ABX9TyOHZCZTHtSCChBXA82b/OWR",
      "include_colab_link": true
    },
    "kernelspec": {
      "name": "python3",
      "display_name": "Python 3"
    },
    "language_info": {
      "name": "python"
    }
  },
  "cells": [
    {
      "cell_type": "markdown",
      "metadata": {
        "id": "view-in-github",
        "colab_type": "text"
      },
      "source": [
        "<a href=\"https://colab.research.google.com/github/Brinda1994/assignment_05_pynb/blob/main/assignment02.ipynb\" target=\"_parent\"><img src=\"https://colab.research.google.com/assets/colab-badge.svg\" alt=\"Open In Colab\"/></a>"
      ]
    },
    {
      "cell_type": "code",
      "execution_count": null,
      "metadata": {
        "colab": {
          "base_uri": "https://localhost:8080/"
        },
        "id": "e7ueg-vQkpc8",
        "outputId": "5efe4c70-247f-43e5-b065-f0c29627c39e"
      },
      "outputs": [
        {
          "output_type": "stream",
          "name": "stdout",
          "text": [
            "Sum of all elements in given list:  117\n"
          ]
        }
      ],
      "source": [
        "#1.Write a program to find sum of all elements in a list of integers.\n",
        "\n",
        "total = 0\n",
        "list = [10, 25, 34, 5, 43]\n",
        "\n",
        "for element in range(0, len(list)):\n",
        "    total = total + list[element]\n",
        "print(\"Sum of all elements in given list: \", total)"
      ]
    },
    {
      "cell_type": "code",
      "source": [
        "#2. Input a sentence as a string.\n",
        " #a) Print its length\n",
        " #b) Print the first half of string\n",
        "\n",
        "s = \"Hello, World!\"\n",
        "print(len(s))\n",
        "string = s[:5]\n",
        "print(string)"
      ],
      "metadata": {
        "colab": {
          "base_uri": "https://localhost:8080/"
        },
        "id": "a-IS3HZNoSNo",
        "outputId": "89be1399-284e-4a18-a07a-b233eda1bdb9"
      },
      "execution_count": null,
      "outputs": [
        {
          "output_type": "stream",
          "name": "stdout",
          "text": [
            "13\n",
            "Hello\n"
          ]
        }
      ]
    },
    {
      "cell_type": "code",
      "source": [
        "#3. Write a program to enter a tuple of integers as(78,45,32,19,82,77,40,39). Change the third value in the tuple to 100\n",
        "\n",
        "t = (78,45,32,19,82,77,40,39)\n",
        "lst = list(t)\n",
        "lst[2] = 100\n",
        "t = tuple(lst)\n",
        "print(t)"
      ],
      "metadata": {
        "colab": {
          "base_uri": "https://localhost:8080/"
        },
        "id": "Tk8DZ3C5qZ27",
        "outputId": "fb7f620a-9972-4e4f-ace6-80be1fdf11d4"
      },
      "execution_count": null,
      "outputs": [
        {
          "output_type": "stream",
          "name": "stdout",
          "text": [
            "(78, 45, 100, 19, 82, 77, 40, 39)\n"
          ]
        }
      ]
    },
    {
      "cell_type": "code",
      "source": [
        "#4.Consider a list listA=[19,32,10,55,31,32,94,29,10,65,77,40,40]\n",
        "#(a)Delete the first occurrence of 32\n",
        "#(b)Delete all occurrences of 40\n",
        "#(c)Delete the value at index=5\n",
        "#(d)Modify the value at index=9 as 300\n",
        "#(e)Add 200 at index=2\n",
        "#(f)Print the final list with its length, maximum value and sum of all elements"
      ],
      "metadata": {
        "id": "yHAF7aaB9fDY"
      },
      "execution_count": null,
      "outputs": []
    },
    {
      "cell_type": "code",
      "source": [
        "list = [19,32,10,55,31,32,94,29,10,65,77,40,40]\n",
        "list.remove(list[0])\n",
        "print(list)\n"
      ],
      "metadata": {
        "colab": {
          "base_uri": "https://localhost:8080/"
        },
        "id": "6EnVgYYr-MI0",
        "outputId": "22e4df2a-6a29-4fe3-feb3-7d54692b4618"
      },
      "execution_count": null,
      "outputs": [
        {
          "output_type": "stream",
          "name": "stdout",
          "text": [
            "[32, 10, 55, 31, 32, 94, 29, 10, 65, 77, 40, 40]\n"
          ]
        }
      ]
    },
    {
      "cell_type": "code",
      "source": [
        "val = 40\n",
        "list.remove(val)\n",
        "print(list)"
      ],
      "metadata": {
        "colab": {
          "base_uri": "https://localhost:8080/"
        },
        "id": "FMxGe_eI_2uX",
        "outputId": "51ce8ab3-8f3c-4deb-904b-2fb39449e244"
      },
      "execution_count": null,
      "outputs": [
        {
          "output_type": "stream",
          "name": "stdout",
          "text": [
            "[32, 10, 55, 31, 32, 94, 29, 10, 65, 77, 40]\n"
          ]
        }
      ]
    },
    {
      "cell_type": "code",
      "source": [
        "del list[5]\n",
        "print(list)"
      ],
      "metadata": {
        "colab": {
          "base_uri": "https://localhost:8080/"
        },
        "id": "qmoS-GpsACDd",
        "outputId": "10054d87-2c4b-4e7a-8bf2-946003cffa3c"
      },
      "execution_count": null,
      "outputs": [
        {
          "output_type": "stream",
          "name": "stdout",
          "text": [
            "[32, 10, 55, 31, 32, 29, 10, 65, 77, 40]\n"
          ]
        }
      ]
    },
    {
      "cell_type": "code",
      "source": [
        "list[9] = 300\n",
        "print(list)"
      ],
      "metadata": {
        "colab": {
          "base_uri": "https://localhost:8080/"
        },
        "id": "V3vlEntEAGKl",
        "outputId": "6c4dfc08-5b74-4c42-b935-bb33b1d70309"
      },
      "execution_count": null,
      "outputs": [
        {
          "output_type": "stream",
          "name": "stdout",
          "text": [
            "[32, 10, 55, 31, 32, 29, 10, 65, 77, 300]\n"
          ]
        }
      ]
    },
    {
      "cell_type": "code",
      "source": [
        "list.insert(2,200)\n",
        "print(list)"
      ],
      "metadata": {
        "colab": {
          "base_uri": "https://localhost:8080/"
        },
        "id": "23TbwyOWAP6W",
        "outputId": "6b9fc337-e083-4852-eca7-f393cbef55a1"
      },
      "execution_count": null,
      "outputs": [
        {
          "output_type": "stream",
          "name": "stdout",
          "text": [
            "[32, 10, 200, 55, 31, 32, 29, 10, 65, 77, 300]\n"
          ]
        }
      ]
    },
    {
      "cell_type": "code",
      "source": [
        "n = len(list)\n",
        "print(\"The length of list is: \", n)"
      ],
      "metadata": {
        "colab": {
          "base_uri": "https://localhost:8080/"
        },
        "id": "dx8FRTIlASkb",
        "outputId": "2fefa54e-42bc-4fdb-8d75-c06cb15e765e"
      },
      "execution_count": null,
      "outputs": [
        {
          "output_type": "stream",
          "name": "stdout",
          "text": [
            "The length of list is:  11\n"
          ]
        }
      ]
    },
    {
      "cell_type": "code",
      "source": [
        "print(\"Max value element : \", str(max(list)))"
      ],
      "metadata": {
        "colab": {
          "base_uri": "https://localhost:8080/"
        },
        "id": "sgRwmVmbA3YC",
        "outputId": "b91c33d3-639a-4851-de67-5e5380f849ca"
      },
      "execution_count": null,
      "outputs": [
        {
          "output_type": "stream",
          "name": "stdout",
          "text": [
            "Max value element :  300\n"
          ]
        }
      ]
    },
    {
      "cell_type": "code",
      "source": [
        "total = sum(list)\n",
        "print(total)"
      ],
      "metadata": {
        "colab": {
          "base_uri": "https://localhost:8080/"
        },
        "id": "unqezghPBSWJ",
        "outputId": "80275b2b-2572-4968-b848-01e1b3671b63"
      },
      "execution_count": null,
      "outputs": [
        {
          "output_type": "stream",
          "name": "stdout",
          "text": [
            "841\n"
          ]
        }
      ]
    },
    {
      "cell_type": "code",
      "source": [
        "#5.Consider a string ”The day has been long”.\n",
        "#(a)Delete the value at index =4\n",
        "#(b)Print the string 4 times in a single line with space between each repetition\n",
        "#(c)Print the string 3 times in a new line each time\n",
        "#(d)Modify the string at index 7 as ’A’\n",
        "#(e)Print the string from index 4 to 15"
      ],
      "metadata": {
        "id": "IzYAeOsrC93y"
      },
      "execution_count": null,
      "outputs": []
    },
    {
      "cell_type": "code",
      "source": [
        "string = \"The day has been long\"\n",
        "Index = 4\n",
        "print(string.replace(string[Index],\"\",4))"
      ],
      "metadata": {
        "colab": {
          "base_uri": "https://localhost:8080/"
        },
        "id": "-m9Rce1VTiTe",
        "outputId": "57a0711e-1c6f-4ac9-a90b-7e68dd6b4c4c"
      },
      "execution_count": null,
      "outputs": [
        {
          "output_type": "stream",
          "name": "stdout",
          "text": [
            "The ay has been long\n"
          ]
        }
      ]
    },
    {
      "cell_type": "code",
      "source": [
        "string = \"The day has been long\"\n",
        "n = 4\n",
        "print(f\"{string} \"*n)"
      ],
      "metadata": {
        "colab": {
          "base_uri": "https://localhost:8080/"
        },
        "id": "O01CcMrraKg4",
        "outputId": "3ebee243-d897-4027-f0dc-f3e6a791f79b"
      },
      "execution_count": null,
      "outputs": [
        {
          "output_type": "stream",
          "name": "stdout",
          "text": [
            "The day has been long The day has been long The day has been long The day has been long \n"
          ]
        }
      ]
    },
    {
      "cell_type": "code",
      "source": [
        "string = \"The day has been long\"\n",
        "n = 3\n",
        "print(f\"{string}\\n \"*n)"
      ],
      "metadata": {
        "id": "SZuwsnUucSCs",
        "colab": {
          "base_uri": "https://localhost:8080/"
        },
        "outputId": "93f03633-6335-407e-bc6e-f04bf8cc79fb"
      },
      "execution_count": null,
      "outputs": [
        {
          "output_type": "stream",
          "name": "stdout",
          "text": [
            "The day has been long\n",
            " The day has been long\n",
            " The day has been long\n",
            " \n"
          ]
        }
      ]
    },
    {
      "cell_type": "code",
      "source": [
        "string = \"The day has been long\"\n",
        "i = 7\n",
        "new_char = 'A'\n",
        "new_string = string[:i] + new_char + string[i+1:]\n",
        "print(new_string)"
      ],
      "metadata": {
        "id": "uRQoGAl4db59",
        "colab": {
          "base_uri": "https://localhost:8080/"
        },
        "outputId": "9ce33b27-fff5-4600-88bc-e652919f417f"
      },
      "execution_count": null,
      "outputs": [
        {
          "output_type": "stream",
          "name": "stdout",
          "text": [
            "The dayAhas been long\n"
          ]
        }
      ]
    },
    {
      "cell_type": "code",
      "source": [
        "string = \"The day has been long\"\n",
        "print(string[4:16])"
      ],
      "metadata": {
        "colab": {
          "base_uri": "https://localhost:8080/"
        },
        "id": "NtpNvqFhf4iO",
        "outputId": "db4e5895-0539-4431-a481-c25a1472c1e0"
      },
      "execution_count": null,
      "outputs": [
        {
          "output_type": "stream",
          "name": "stdout",
          "text": [
            "day has been\n"
          ]
        }
      ]
    }
  ]
}