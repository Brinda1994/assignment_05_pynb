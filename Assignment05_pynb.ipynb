{
  "nbformat": 4,
  "nbformat_minor": 0,
  "metadata": {
    "colab": {
      "provenance": [],
      "authorship_tag": "ABX9TyP+3i0tAFlWkF3Pmuuxl937",
      "include_colab_link": true
    },
    "kernelspec": {
      "name": "python3",
      "display_name": "Python 3"
    },
    "language_info": {
      "name": "python"
    }
  },
  "cells": [
    {
      "cell_type": "markdown",
      "metadata": {
        "id": "view-in-github",
        "colab_type": "text"
      },
      "source": [
        "<a href=\"https://colab.research.google.com/github/Brinda1994/assignment_05_pynb/blob/main/Assignment05_pynb.ipynb\" target=\"_parent\"><img src=\"https://colab.research.google.com/assets/colab-badge.svg\" alt=\"Open In Colab\"/></a>"
      ]
    },
    {
      "cell_type": "code",
      "execution_count": null,
      "metadata": {
        "id": "q2jXRvRKFotG",
        "colab": {
          "base_uri": "https://localhost:8080/"
        },
        "outputId": "648368c2-0c51-4135-eec9-94a84c30f384"
      },
      "outputs": [
        {
          "output_type": "stream",
          "name": "stdout",
          "text": [
            "enter the first number: 30\n",
            "enter the second number: 40\n",
            "enter the third number: 50\n",
            "40\n"
          ]
        }
      ],
      "source": [
        "1.#Write a function that returns the middle value among three integers.Write code to test this function with different inputs.\n",
        "a=int(input(\"enter the first number: \"))\n",
        "b=int(input(\"enter the second number: \"))\n",
        "c=int(input(\"enter the third number: \"))\n",
        "print(MiddleOfThree(a, b, c))\n",
        "def MiddleOfThree(a, b, c):\n",
        "    if((a < b and b < c) or (c < b and b < a)) :\n",
        "        return b;\n",
        "    if ((b < a and a < c) or (c < a and a < b)) :\n",
        "        return a;\n",
        "    else :\n",
        "        return c\n"
      ]
    },
    {
      "cell_type": "code",
      "source": [
        "2. #Build a calculator in Python using functions\n",
        "def add(num1, num2):\n",
        "    return num1 + num2\n",
        "def subtract(num1, num2):\n",
        "    return num1 - num2\n",
        "def multiply(num1, num2):\n",
        "    return num1 * num2\n",
        "def divide(num1, num2):\n",
        "    return num1 / num2\n",
        "print(\"operation:-\\n\" \\\n",
        "        \"1. Add\\n\" \\\n",
        "        \"2. Subtract\\n\" \\\n",
        "        \"3. Multiply\\n\" \\\n",
        "        \"4. Divide\\n\")\n",
        "select = int(input(\"Select operations 1, 2, 3, 4 :\"))\n",
        "\n",
        "num1 = int(input(\"Enter first number: \"))\n",
        "num2 = int(input(\"Enter second number: \"))\n",
        "\n",
        "if select == 1:\n",
        "    print(num1, \"+\", num2, \"=\",\n",
        "        add(num1, num2))\n",
        "\n",
        "elif select == 2:\n",
        "    print(num1, \"-\", num2, \"=\",\n",
        "        subtract(num1, num2))\n",
        "\n",
        "elif select == 3:\n",
        "    print(num1, \"*\", num2, \"=\",\n",
        "         multiply(num1, num2))\n",
        "\n",
        "elif select == 4:\n",
        "    print(num1, \"/\", num2, \"=\",\n",
        "        divide(num1, num2))\n",
        "else:\n",
        "    print(\"Invalid input\")"
      ],
      "metadata": {
        "colab": {
          "base_uri": "https://localhost:8080/"
        },
        "id": "fBvnVYtYPaKk",
        "outputId": "51b043a6-d178-469f-cf41-c14666ad33be"
      },
      "execution_count": null,
      "outputs": [
        {
          "output_type": "stream",
          "name": "stdout",
          "text": [
            "operation:-\n",
            "1. Add\n",
            "2. Subtract\n",
            "3. Multiply\n",
            "4. Divide\n",
            "\n",
            "Select operations 1, 2, 3, 4 :4\n",
            "Enter first number: 10\n",
            "Enter second number: 5\n",
            "10 / 5 = 2.0\n"
          ]
        }
      ]
    },
    {
      "cell_type": "code",
      "source": [
        "3 #Write a function that takes the lengths of the two shorter sides of a right triangle as its parameters. Return the hypotenuse of the triangle, computed using Pythagorean theorem,as the function’s result.\n",
        "side1=10;\n",
        "side2=15;\n",
        "print(findHypotenuse(side1, side2))\n",
        "def findHypotenuse(side1,side2):\n",
        "\n",
        "    c= (((side1* side1) + (side2 * side2))**(1/2));\n",
        "    return c;\n"
      ],
      "metadata": {
        "colab": {
          "base_uri": "https://localhost:8080/"
        },
        "id": "jSCqH18aWCd-",
        "outputId": "64f5f08d-b1db-451b-8598-5b9339bb7379"
      },
      "execution_count": null,
      "outputs": [
        {
          "output_type": "stream",
          "name": "stdout",
          "text": [
            "18.027756377319946\n"
          ]
        }
      ]
    },
    {
      "cell_type": "code",
      "source": [
        "4.# The Rectangle problem\n",
        "    #(a) Write a Rectangle class in Python language, allowing you to build a rectangle with length and width attributes.\n",
        "    #(b) Create a Perimeter() method to calculate the perimeter of the rectangle and a Area() method to calculate the area of the rectangle.\n",
        "    #(c) Create a method display() that display the length, width, perimeter and area of an object created using an instantiation on rectangle class.\n",
        "\n",
        "class rectangle():\n",
        "    def __init__(self,width,length):\n",
        "        self.width=width\n",
        "        self.length=length\n",
        "    def area(self):\n",
        "        return self.width*self.length\n",
        "    def perimeter(self):\n",
        "      return 2*(self.width+self.length)\n",
        "a=int(input(\"Enter length of rectangle: \"))\n",
        "b=int(input(\"Enter width of rectangle: \"))\n",
        "obj=rectangle(a,b)\n",
        "print(\"Area of rectangle:\",obj.area())\n",
        "print(\"perimeter of rectangle:\",obj.perimeter())\n",
        "print()"
      ],
      "metadata": {
        "colab": {
          "base_uri": "https://localhost:8080/"
        },
        "id": "mDU6woxY4uGs",
        "outputId": "4a0c66b3-15aa-48ff-be07-e39f14afda24"
      },
      "execution_count": null,
      "outputs": [
        {
          "output_type": "stream",
          "name": "stdout",
          "text": [
            "Enter length of rectangle: 15\n",
            "Enter width of rectangle: 10\n",
            "Area of rectangle: 150\n",
            "perimeter of rectangle: 50\n",
            "\n"
          ]
        }
      ]
    },
    {
      "cell_type": "code",
      "source": [
        "5 #The Bank Account problem\n",
        "  #(a) Create a Python class called BankAccount which represents a bank account, having as attributes: accountNumber (numeric type), name (name of the account owner as string type), balance.\n",
        "  #(b) Create a constructor with parameters: accountNumber, name, balance.\n",
        "  #(c) Create a Deposit() method which manages the deposit actions.\n",
        "  #(d) Create a Withdrawal() method which manages withdrawals actions.\n",
        "  #(e) Create an bankFees() method to apply the bank fees with a percentage of 5% of the balance account.\n",
        "  #(f) Create a display() method to display account details.\n",
        "\n",
        "class BankAccount:\n",
        "\n",
        "    def __init__(self,accountNumber, name, balance):\n",
        "        self.accountNumber = accountNumber\n",
        "        self.name = name\n",
        "        self.balance = balance\n",
        "    def Deposit(self , d ):\n",
        "        self.balance = self.balance + d\n",
        "    def Withdrawal(self , w):\n",
        "        if(self.balance < w):\n",
        "            print(\"Insufficient balance !\")\n",
        "        else:\n",
        "            self.balance = self.balance - w\n",
        "    def bankFees(self):\n",
        "        self.balance = (95/100)*self.balance\n",
        "    def display(self):\n",
        "        print(\"Account Number : \" , self.accountNumber)\n",
        "        print(\"Account Name : \" , self.name)\n",
        "        print(\"Account Balance : \" ,self.balance,\"Rs\")\n",
        "\n"
      ],
      "metadata": {
        "id": "IEn1EBcaEO-w"
      },
      "execution_count": null,
      "outputs": []
    },
    {
      "cell_type": "code",
      "source": [
        "newAccount = BankAccount(1236547, \"x\" ,4000)\n",
        "newAccount.Withdrawal(500)\n",
        "newAccount.Deposit(150)\n",
        "newAccount.display()"
      ],
      "metadata": {
        "colab": {
          "base_uri": "https://localhost:8080/"
        },
        "id": "C3GL6ojCEeLV",
        "outputId": "9e37ef53-e0e0-4c87-9a27-e511d68460f9"
      },
      "execution_count": null,
      "outputs": [
        {
          "output_type": "stream",
          "name": "stdout",
          "text": [
            "Account Number :  1236547\n",
            "Account Name :  x\n",
            "Account Balance :  3650 Rs\n"
          ]
        }
      ]
    }
  ]
}